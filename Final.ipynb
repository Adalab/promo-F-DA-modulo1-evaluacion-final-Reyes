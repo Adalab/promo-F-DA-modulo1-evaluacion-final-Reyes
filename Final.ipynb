{
 "cells": [
  {
   "cell_type": "code",
   "execution_count": 136,
   "metadata": {},
   "outputs": [],
   "source": [
    "import re\n",
    "class TiendaOnline: \n",
    "  \n",
    "    def __init__ (self, inventario=[], clientes={}, ventas_fotales=0.0):\n",
    "        self.inventario=inventario  \n",
    "        self.clientes=clientes\n",
    "        self.ventas_totales=ventas_fotales\n",
    "        \n",
    "        \n",
    "    def agregar_producto (self, nombre, precio, cantidad): #Interpreto el enunciado como que se actualiza al parametro que pasamos a la función. Para sumarlo hay un métido más abajo. \n",
    "        \n",
    "        #Creamos un diccionario con nombre nuevo producto para poder añadirlo a nuestro self.inventario en caso de que sea un producto nuevo.\n",
    "        nuevo_producto={\"nombre\":nombre, \"precio\":precio, \"cantidad\":cantidad} \n",
    "        \n",
    "        #Iteramos cada producto del inventario\n",
    "        for producto in self.inventario: \n",
    "            \n",
    "            #Accedemos al valor de la key \"nombre\" y si coindice con el parametro introducido, cambiamos la cantidad entrando a su vez en la key correspondiente.  \n",
    "            if producto[\"nombre\"] == nombre:\n",
    "                producto[\"cantidad\"]=cantidad\n",
    "                return           \n",
    "        #Si no coincide el valor de la key nombre, añadimos un nuevo diccionario con los parametros introducidos.     \n",
    "        return self.inventario.append(nuevo_producto)           \n",
    "    \n",
    "    \n",
    "    def ver_inventario (self):\n",
    "       \n",
    "        #Comprobamos que el diccionario no esté vacío, si lo está devolvemos un mensaje de error.\n",
    "        if len(self.inventario)==0:     \n",
    "            print(f\"No hay productos disponibles en el inventario\")\n",
    "        \n",
    "        else: \n",
    "            #Iteramos cada producto del inventario           \n",
    "            for producto in self.inventario:           \n",
    "                #Accedemos a cada valor de cada key de cada diccionario y lo guardamos en una variable\n",
    "                nombre= producto[\"nombre\"]\n",
    "                \n",
    "                precio= producto[\"precio\"]\n",
    "               \n",
    "                cantidad=producto[\"cantidad\"]\n",
    "                print (f\"Nombre: {nombre}, Precio: ${precio}, Cantidad: {cantidad} \")\n",
    "                \n",
    "    \n",
    "    def buscar_producto(self,nombre):\n",
    "        #Iteramos cada producto del inventario\n",
    "        for producto in self.inventario: \n",
    "            #Si el valor de la key nombre coincide con el parametro introducido, accedemos a cada valor de ese diccionario y lo guardamos en una variable. \n",
    "            if producto[\"nombre\"]== nombre:\n",
    "                nombre= producto[\"nombre\"]\n",
    "                \n",
    "                precio= producto[\"precio\"]\n",
    "               \n",
    "                cantidad=producto[\"cantidad\"]\n",
    "                print(f\"Nombre: {nombre}, Precio: ${precio}, Cantidad: {cantidad}\") \n",
    "    \n",
    "    def actualizar_stock (self, nombre, cantidad):\n",
    "        #Accedemos al valor de la key \"nombre\" y si coindice con el parametro introducido, sumamos la cantidad entrando a su vez en la key correspondiente\n",
    "        for producto in self.inventario: \n",
    "            \n",
    "            if producto[\"nombre\"]==nombre:\n",
    "                producto[\"cantidad\"]+=cantidad\n",
    "                return  self.inventario     \n",
    "        #Devolvemos el mensaje de que no tenemos ese producto   \n",
    "        return f\"El producto {nombre} no se encuentra en el inventario\"\n",
    "            \n",
    "    \n",
    "    def eliminar_producto (self, nombre): \n",
    "        #Iteramos cada producto del inventario\n",
    "        for producto in self.inventario: \n",
    "        #Eliminamos el producto si encontramos coincidencia.   \n",
    "            if producto[\"nombre\"]==nombre:\n",
    "                self.inventario.remove(producto)\n",
    "                print(f\"Se ha eliminado el producto {nombre} del inventario\")\n",
    "                return \n",
    "                \n",
    "        print(f\"El producto {nombre} no existe.\")\n",
    "    \n",
    "    def calcular_valor_inventario(self):\n",
    "        #Damos un valor 0 de inicio para poder sumarle a cada vuelta del bucle la cantidad.\n",
    "        total_valor_inventario=0\n",
    "        #Iteramos cada producto del inventario.\n",
    "        for producto in self.inventario:\n",
    "            valor_producto=producto[\"cantidad\"]*producto[\"precio\"]\n",
    "            total_valor_inventario=total_valor_inventario+valor_producto\n",
    "        print(f\"El valor total del inventario es {total_valor_inventario}€\")\n",
    "    \n",
    "\n",
    "    def buscar_producto_regex (self, patron):\n",
    "        productos_regex=[]\n",
    "        #Iteramos cada producto del inventario para comprobar si coinciden con el patrón\n",
    "        for producto in self.inventario: \n",
    "            #Cada producto que coincida con el patrón de búsqueda se añade al listado que hemos creado previamente.\n",
    "            if re.search(patron,producto[\"nombre\"]):\n",
    "                productos_regex.append(producto)\n",
    "                return productos_regex\n",
    "        else: \n",
    "            print(\"En el inventario no existen productos que coincidan con el patrón de búsqueda\") \n",
    "               \n",
    "          \n",
    "    def realizar_compra(self):\n",
    "        \n",
    "        continuar = 's'\n",
    "        producto=True #Creamos una variable booleana que nos sirva de \"semaforo rojo\"\n",
    "        carrito = []\n",
    "        total = 0\n",
    "        \n",
    "        while continuar  == 's':\n",
    "            \n",
    "            nombre = input(f\"Introduce el nombre del producto que quieres comprar. A continuación te mostramos los articulos disponibles {self.inventario} \")\n",
    "            #Iteramos cada producto del inventario\n",
    "            for producto_inventario in self.inventario:\n",
    "                #Si el producto coindice con el nombre introducido por parametro producto=True\n",
    "                if producto_inventario[\"nombre\"]==nombre:\n",
    "                    producto=True\n",
    "                    #preguntamos al cliente cuantas unidades quiere del producto\n",
    "                    unidades_producto_carrito=int(input(\"¿Cuántas unidades de producto deseas?\"))\n",
    "                    #Comprobamos que hay unidades suficientes en el inventario para poder venderlas\n",
    "                    if producto_inventario[\"cantidad\"]>=unidades_producto_carrito: \n",
    "                        #Creo un diccionario para cada producto que se incluye en el carrito con las caracteristicas que me interesan.  \n",
    "                        producto_carrito = {\n",
    "                            'nombre': producto_inventario['nombre'],\n",
    "                            'precio': producto_inventario['precio'],\n",
    "                            'unidades': unidades_producto_carrito\n",
    "                        }\n",
    "                        \n",
    "                        carrito.append(producto_carrito)\n",
    "                        #Restamos del inventario las unidades vendidas para actualizar el inventario. \n",
    "                        producto_inventario[\"cantidad\"]-=unidades_producto_carrito\n",
    "                    else: \n",
    "                        print( \"No hay suficente stock de este producto\")    \n",
    "                    break #para evitar que un producto que existe en el inventario salte al else y nos devuelva un print que no corresponde. \n",
    "                else: \n",
    "                    producto=False\n",
    "            #una vez recorridos todos los productos del inventario y comprobado que el producto seleccionado no está en el inventario, se imprime el mensaje.   \n",
    "            if producto== False:\n",
    "                print(f\"El producto no existe en el inventario\")  \n",
    "            #Pedimos confirmación para continuar compra o salir del bucle               \n",
    "            continuar = input(\"Quieres seguir comprando? s/n\").lower()\n",
    "            \n",
    "        #Iteramos cada producto comprado\n",
    "        for n in carrito:\n",
    "            #multiplicamos el valor de su precio por las unidades compradas\n",
    "            importe=n[\"precio\"]*n[\"unidades\"]\n",
    "            total=round(total+importe,2)\n",
    "       \n",
    "        print(f\"Los productos comprados son: {carrito}. El total de la compra asciende a {total}€\")\n",
    "        return carrito\n",
    "    \n",
    "    def procesar_pago(self):\n",
    "        \n",
    "        try:\n",
    "            importe_pagar = float(input('Indique el importe pendiente:'))\n",
    "            total_pagar = float(input('Indique el importe que va a abonar:'))\n",
    "            \n",
    "            diferencia = round(total_pagar - importe_pagar, 2)\n",
    "            #Pago satisfecho\n",
    "            if diferencia >= 0:\n",
    "                print(f\"Muchas gracias por su compra. El saldo disponible para usar en nuestra tienda {diferencia}€.\")\n",
    "            #Pago insatisfecho\n",
    "            else:\n",
    "                print(f\"Pago pendiente. Aporte la cantidad de {total_pagar} para satisfacer el pago.\")\n",
    "        #Error en el ingreso de los inputs\n",
    "        except: \n",
    "            print('Ha habido algún error con su pago. Vuelva a procesarlo de nuevo, por favor')\n",
    "            \n",
    "    def agregar_cliente(self, nombre, email): \n",
    "        \n",
    "        #Confirmamos previamente si el cliente está en el listado\n",
    "        if nombre in self.clientes:\n",
    "            print(f\"El cliente {nombre} ya está incluido en el listado de clientes.\")\n",
    "        #Accedemos a la key del diccionario y le asignamos el valor (otro diccionario)    \n",
    "        else: \n",
    "            self.clientes[nombre] = {'email':email, \"compras\":[]}\n",
    "            print(\"Cliente añadido al listado\")\n",
    "            \n",
    "        return self.clientes\n",
    "    \n",
    "    def ver_clientes (self): \n",
    "        #Iteramos clave y valor de cada entrada de cliente.\n",
    "        for cliente, mail in self.clientes.items():\n",
    "            #Imprimimos mensaje con clave y el valor de la clave del valor-diccionario\n",
    "            print(f\"Nombre del cliente: {cliente}, e-mail: {mail['email']}\")\n",
    "                \n",
    "    \n",
    "        "
   ]
  },
  {
   "cell_type": "code",
   "execution_count": 137,
   "metadata": {},
   "outputs": [],
   "source": [
    "#Instanciamos la clase\n",
    "paraeta=TiendaOnline ([], {}, {})\n"
   ]
  },
  {
   "cell_type": "code",
   "execution_count": 138,
   "metadata": {},
   "outputs": [
    {
     "name": "stdout",
     "output_type": "stream",
     "text": [
      "[{'nombre': 'chicles de fresa', 'precio': 0.25, 'cantidad': 150}, {'nombre': 'chicles de menta', 'precio': 0.25, 'cantidad': 100}, {'nombre': 'chupachups', 'precio': 0.5, 'cantidad': 250}, {'nombre': 'piruleta', 'precio': 0.35, 'cantidad': 225}, {'nombre': 'petazetas', 'precio': 0.6, 'cantidad': 125}]\n"
     ]
    }
   ],
   "source": [
    "#MÉTODO 1. agregar_producto(self, nombre, precio, cantidad)\n",
    "\n",
    "paraeta.agregar_producto (\"chicles de fresa\", 0.25, 150)\n",
    "paraeta.agregar_producto (\"chicles de menta\", 0.25, 100)\n",
    "paraeta.agregar_producto (\"chupachups\", 0.50, 250)\n",
    "paraeta.agregar_producto (\"piruleta\", 0.35, 225)\n",
    "paraeta.agregar_producto (\"petazetas\", 0.60, 125)\n",
    "\n",
    "print(paraeta.inventario)"
   ]
  },
  {
   "cell_type": "code",
   "execution_count": 139,
   "metadata": {},
   "outputs": [
    {
     "name": "stdout",
     "output_type": "stream",
     "text": [
      "Nombre: chicles de fresa, Precio: $0.25, Cantidad: 150 \n",
      "Nombre: chicles de menta, Precio: $0.25, Cantidad: 100 \n",
      "Nombre: chupachups, Precio: $0.5, Cantidad: 250 \n",
      "Nombre: piruleta, Precio: $0.35, Cantidad: 225 \n",
      "Nombre: petazetas, Precio: $0.6, Cantidad: 125 \n"
     ]
    }
   ],
   "source": [
    "#MÉTODO 2. ver_inventario(self)\n",
    "\n",
    "paraeta.ver_inventario()"
   ]
  },
  {
   "cell_type": "code",
   "execution_count": 140,
   "metadata": {},
   "outputs": [
    {
     "name": "stdout",
     "output_type": "stream",
     "text": [
      "Nombre: petazetas, Precio: $0.6, Cantidad: 125\n"
     ]
    }
   ],
   "source": [
    "#MÉTODO 3. buscar_producto(self, nombre)\n",
    "\n",
    "paraeta.buscar_producto(\"petazetas\")"
   ]
  },
  {
   "cell_type": "code",
   "execution_count": 141,
   "metadata": {},
   "outputs": [
    {
     "data": {
      "text/plain": [
       "[{'nombre': 'chicles de fresa', 'precio': 0.25, 'cantidad': 150},\n",
       " {'nombre': 'chicles de menta', 'precio': 0.25, 'cantidad': 100},\n",
       " {'nombre': 'chupachups', 'precio': 0.5, 'cantidad': 258},\n",
       " {'nombre': 'piruleta', 'precio': 0.35, 'cantidad': 225},\n",
       " {'nombre': 'petazetas', 'precio': 0.6, 'cantidad': 125}]"
      ]
     },
     "execution_count": 141,
     "metadata": {},
     "output_type": "execute_result"
    }
   ],
   "source": [
    "#MÉTODO 4. actualizar_stock(self, nombre, cantidad)\n",
    "\n",
    "paraeta.actualizar_stock(\"chupachups\", 8)"
   ]
  },
  {
   "cell_type": "code",
   "execution_count": 142,
   "metadata": {},
   "outputs": [
    {
     "name": "stdout",
     "output_type": "stream",
     "text": [
      "Se ha eliminado el producto piruleta del inventario\n"
     ]
    }
   ],
   "source": [
    "#MÉTODO 5. eliminar_producto(self, nombre)\n",
    "\n",
    "paraeta.eliminar_producto(\"piruleta\")"
   ]
  },
  {
   "cell_type": "code",
   "execution_count": 143,
   "metadata": {},
   "outputs": [
    {
     "name": "stdout",
     "output_type": "stream",
     "text": [
      "El valor total del inventario es 266.5€\n"
     ]
    }
   ],
   "source": [
    "#MÉTODO 6. calcular_valor_inventario(self)\n",
    "\n",
    "paraeta.calcular_valor_inventario()"
   ]
  },
  {
   "cell_type": "code",
   "execution_count": 144,
   "metadata": {},
   "outputs": [
    {
     "data": {
      "text/plain": [
       "[{'nombre': 'chicles de fresa', 'precio': 0.25, 'cantidad': 150}]"
      ]
     },
     "execution_count": 144,
     "metadata": {},
     "output_type": "execute_result"
    }
   ],
   "source": [
    "#MÉTODO 7. buscar_producto_regex(self, patron)\n",
    "\n",
    "paraeta.buscar_producto_regex (\"ch.\\w\")"
   ]
  },
  {
   "cell_type": "code",
   "execution_count": 146,
   "metadata": {},
   "outputs": [
    {
     "name": "stdout",
     "output_type": "stream",
     "text": [
      "Los productos comprados son: [{'nombre': 'chicles de fresa', 'precio': 0.25, 'unidades': 4}, {'nombre': 'chicles de menta', 'precio': 0.25, 'unidades': 8}, {'nombre': 'petazetas', 'precio': 0.6, 'unidades': 10}]. El total de la compra asciende a 9.0€\n"
     ]
    },
    {
     "data": {
      "text/plain": [
       "[{'nombre': 'chicles de fresa', 'precio': 0.25, 'unidades': 4},\n",
       " {'nombre': 'chicles de menta', 'precio': 0.25, 'unidades': 8},\n",
       " {'nombre': 'petazetas', 'precio': 0.6, 'unidades': 10}]"
      ]
     },
     "execution_count": 146,
     "metadata": {},
     "output_type": "execute_result"
    }
   ],
   "source": [
    "#MÉTODO 8. realizar_compra(self)\n",
    "\n",
    "paraeta.realizar_compra()"
   ]
  },
  {
   "cell_type": "code",
   "execution_count": 147,
   "metadata": {},
   "outputs": [
    {
     "name": "stdout",
     "output_type": "stream",
     "text": [
      "Muchas gracias por su compra. El saldo disponible para usar en nuestra tienda 6.0€.\n"
     ]
    }
   ],
   "source": [
    "#MÉTODO 9. procesar_pago(self)\n",
    "\n",
    "paraeta.procesar_pago()"
   ]
  },
  {
   "cell_type": "code",
   "execution_count": 150,
   "metadata": {},
   "outputs": [
    {
     "name": "stdout",
     "output_type": "stream",
     "text": [
      "Cliente añadido al listado\n"
     ]
    },
    {
     "data": {
      "text/plain": [
       "{'Iván': {'email': 'ivan@correo.com', 'compras': []},\n",
       " 'Ana': {'email': 'ana@correo.com', 'compras': []},\n",
       " 'Luz': {'email': 'luz@correo.com', 'compras': []}}"
      ]
     },
     "execution_count": 150,
     "metadata": {},
     "output_type": "execute_result"
    }
   ],
   "source": [
    "#MÉTODO 10. agregar_cliente(self, nombre, email)\n",
    "\n",
    "paraeta.agregar_cliente(\"Luz\", \"luz@correo.com\")"
   ]
  },
  {
   "cell_type": "code",
   "execution_count": 69,
   "metadata": {},
   "outputs": [
    {
     "name": "stdout",
     "output_type": "stream",
     "text": [
      "Nombre del cliente: Sara, e-mail: sara@correo.com\n",
      "Nombre del cliente: Pedro, e-mail: pedro@correo.com\n",
      "Nombre del cliente: Iván, e-mail: ivan@correo.com\n"
     ]
    }
   ],
   "source": [
    "#MÉTODO 11. ver_clientes(self)\n",
    "\n",
    "paraeta.ver_clientes()"
   ]
  },
  {
   "cell_type": "code",
   "execution_count": null,
   "metadata": {},
   "outputs": [],
   "source": []
  }
 ],
 "metadata": {
  "kernelspec": {
   "display_name": "base",
   "language": "python",
   "name": "python3"
  },
  "language_info": {
   "codemirror_mode": {
    "name": "ipython",
    "version": 3
   },
   "file_extension": ".py",
   "mimetype": "text/x-python",
   "name": "python",
   "nbconvert_exporter": "python",
   "pygments_lexer": "ipython3",
   "version": "3.9.7"
  }
 },
 "nbformat": 4,
 "nbformat_minor": 2
}
