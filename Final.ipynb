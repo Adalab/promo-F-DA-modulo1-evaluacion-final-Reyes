{
 "cells": [
  {
   "cell_type": "code",
   "execution_count": 3,
   "metadata": {},
   "outputs": [],
   "source": [
    "import re\n",
    "class TiendaOnline: \n",
    "  \n",
    "    def __init__ (self, inventario=[], clientes={}, ventas_fotales=0.0):\n",
    "        self.inventario=inventario  \n",
    "        self.clientes=clientes\n",
    "        self.ventas_totales=ventas_fotales\n",
    "        \n",
    "        \n",
    "    def agregar_producto (self, nombre, precio, cantidad): \n",
    "    #Interpreto el enunciado como que se actualiza al parametro que pasamos a la función. Para sumarlo hay un métido más abajo. \n",
    "        \n",
    "        #Creamos un diccionario con nombre nuevo producto para poder añadirlo a nuestro self.inventario en caso de que sea un producto nuevo.\n",
    "        nuevo_producto={\"nombre\":nombre, \"precio\":precio, \"cantidad\":cantidad} \n",
    "        \n",
    "        #Iteramos cada producto del inventario\n",
    "        for producto in self.inventario: \n",
    "            \n",
    "            #Accedemos al valor de \"nombre\" y si coindice con el parametro, cambiamos la cantidad accediendo a la clave correspondiente.  \n",
    "            if producto[\"nombre\"] == nombre.lower():\n",
    "                producto[\"cantidad\"]=cantidad\n",
    "                return           \n",
    "        #Si no existe este valor para la clave, añadimos un nuevo diccionario con los parametros introducidos.     \n",
    "        return self.inventario.append(nuevo_producto)           \n",
    "    \n",
    "    \n",
    "    def ver_inventario (self):\n",
    "       \n",
    "        #Comprobamos que el diccionario no esté vacío, si lo está devolvemos un mensaje de error.\n",
    "        if len(self.inventario)==0:     \n",
    "            print(f\"No hay productos disponibles en el inventario\")\n",
    "        \n",
    "        else: \n",
    "            #Iteramos cada producto del inventario           \n",
    "            for producto in self.inventario:           \n",
    "                #Accedemos a cada valor de cada key de cada diccionario y lo guardamos en una variable\n",
    "                nombre= producto[\"nombre\"]\n",
    "                \n",
    "                precio= producto[\"precio\"]\n",
    "               \n",
    "                cantidad=producto[\"cantidad\"]\n",
    "                print (f\"Nombre: {nombre}, Precio: ${precio}, Cantidad: {cantidad} \")\n",
    "                \n",
    "    \n",
    "    def buscar_producto(self,nombre):\n",
    "       \n",
    "        #Iteramos cada producto del inventario \n",
    "        for producto in self.inventario: \n",
    "            #Si el valor de la key nombre coincide con el parametro introducido, accedemos a cada valor de ese diccionario y lo guardamos en una variable. \n",
    "            if producto[\"nombre\"]== nombre.lower():\n",
    "                nombre= producto[\"nombre\"]\n",
    "                \n",
    "                precio= producto[\"precio\"]\n",
    "               \n",
    "                cantidad=producto[\"cantidad\"]\n",
    "                print(f\"Nombre: {nombre}, Precio: ${precio}, Cantidad: {cantidad}\") \n",
    "    \n",
    "    def actualizar_stock (self, nombre, cantidad):\n",
    "        \n",
    "        #Accedemos al valor de la key \"nombre\" y si coindice con el parametro introducido, sumamos la cantidad entrando a su vez en la key correspondiente\n",
    "        for producto in self.inventario: \n",
    "            \n",
    "            if producto[\"nombre\"]==nombre.lower():\n",
    "                producto[\"cantidad\"]+=cantidad\n",
    "                return  self.inventario     \n",
    "            \n",
    "        #Devolvemos el mensaje de que no tenemos ese producto   \n",
    "        return f\"El producto {nombre} no se encuentra en el inventario\"\n",
    "            \n",
    "    \n",
    "    def eliminar_producto (self, nombre): \n",
    "        \n",
    "        #Iteramos cada producto del inventario\n",
    "        for producto in self.inventario: \n",
    "            \n",
    "        #Eliminamos el producto si encontramos coincidencia.   \n",
    "            if producto[\"nombre\"]==nombre.lower():\n",
    "                self.inventario.remove(producto)\n",
    "                print(f\"Se ha eliminado el producto {nombre} del inventario\")\n",
    "                return \n",
    "                \n",
    "        print(f\"El producto {nombre} no existe.\")\n",
    "    \n",
    "    def calcular_valor_inventario(self):\n",
    "        #Damos un valor 0 de inicio para poder sumarle a cada vuelta del bucle la cantidad.\n",
    "        total_valor_inventario=0\n",
    "        \n",
    "        #Iteramos cada producto del inventario.\n",
    "        for producto in self.inventario:\n",
    "            \n",
    "            valor_producto=producto[\"cantidad\"]*producto[\"precio\"]\n",
    "            total_valor_inventario=total_valor_inventario+valor_producto\n",
    "            \n",
    "        print(f\"El valor total del inventario es {total_valor_inventario}€\")\n",
    "    \n",
    "\n",
    "    def buscar_producto_regex (self, patron):\n",
    "        \n",
    "        productos_regex=[]\n",
    "        \n",
    "        #Iteramos cada producto del inventario para comprobar si coinciden con el patrón\n",
    "        for producto in self.inventario: \n",
    "            \n",
    "            #Cada producto que coincida con el patrón de búsqueda se añade al listado que hemos creado previamente.\n",
    "            if re.search(patron,producto[\"nombre\"]):\n",
    "                productos_regex.append(producto)\n",
    "       \n",
    "        return productos_regex       \n",
    "          \n",
    "    def realizar_compra(self):\n",
    "        \n",
    "        continuar = 's'\n",
    "        producto=True #Creamos una variable booleana que nos sirva de \"semaforo rojo\"\n",
    "        carrito = []\n",
    "        total = 0\n",
    "        \n",
    "        while continuar  == 's':\n",
    "            \n",
    "            nombre = input(f\"Introduce el nombre del producto que quieres comprar. A continuación te mostramos los articulos disponibles {self.inventario} \")\n",
    "            \n",
    "            #Iteramos cada producto del inventario\n",
    "            for producto_inventario in self.inventario:\n",
    "                \n",
    "                #Si el producto coindice con el nombre introducido por parametro, entonces producto=True\n",
    "                if producto_inventario[\"nombre\"]==nombre.lower():\n",
    "                    producto=True\n",
    "                    \n",
    "                    #preguntamos al cliente cuantas unidades quiere del producto\n",
    "                    unidades_producto_carrito=int(input(\"¿Cuántas unidades de producto deseas?\"))\n",
    "                                                                      \n",
    "                    #Comprobamos que hay unidades suficientes en el inventario para poder venderlas\n",
    "                    if producto_inventario[\"cantidad\"]>=unidades_producto_carrito: \n",
    "                        \n",
    "                        #Creo un diccionario para cada producto que se incluye en el carrito con las caracteristicas que me interesan.  \n",
    "                        producto_carrito = {\n",
    "                            'nombre': producto_inventario['nombre'],\n",
    "                            'precio': producto_inventario['precio'],\n",
    "                            'unidades': unidades_producto_carrito\n",
    "                        }\n",
    "                        \n",
    "                        carrito.append(producto_carrito)\n",
    "                        \n",
    "                        #Restamos del inventario las unidades vendidas para actualizar el inventario. \n",
    "                        producto_inventario[\"cantidad\"]-=unidades_producto_carrito\n",
    "                    else: \n",
    "                        print( \"No hay suficente stock de este producto\")    \n",
    "                        \n",
    "                    break #una vez encuentra el producto sale del bucle\n",
    "                \n",
    "                else: \n",
    "                    producto=False #para aquellos productos que sí existen en el inventario pero no cumplen la condición\n",
    "                    \n",
    "            #una vez recorridos todos los productos del inventario y comprobado que el producto seleccionado no está en el inventario, se imprime el mensaje.   \n",
    "            if producto== False:\n",
    "                print(f\"El producto no existe en el inventario\")  \n",
    "                \n",
    "            #Pedimos confirmación para continuar compra o salir del bucle               \n",
    "            continuar = input(\"Quieres seguir comprando? s/n\").lower()\n",
    "            \n",
    "        #Iteramos cada producto comprado\n",
    "        for n in carrito:\n",
    "            \n",
    "            #multiplicamos el valor de su precio por las unidades compradas\n",
    "            importe=n[\"precio\"]*n[\"unidades\"]\n",
    "            total=round(total+importe,2)\n",
    "       \n",
    "        print(f\"Los productos comprados son: {carrito}. El total de la compra asciende a {total}€\")\n",
    "        return carrito\n",
    "    \n",
    "    def procesar_pago(self):\n",
    "        \n",
    "        try:\n",
    "            importe_pagar = float(input('Indique el importe pendiente:'))\n",
    "            total_pagar = float(input('Indique el importe que va a abonar:'))\n",
    "            \n",
    "            diferencia = round(total_pagar - importe_pagar, 2)\n",
    "            \n",
    "            #Pago satisfecho\n",
    "            if diferencia >= 0:\n",
    "                print(f\"Muchas gracias por su compra. El saldo disponible para usar en nuestra tienda {diferencia}€.\")\n",
    "                \n",
    "            #Pago insatisfecho\n",
    "            else:\n",
    "                print(f\"Pago pendiente. Aporte la cantidad de {total_pagar} para satisfacer el pago.\")\n",
    "                \n",
    "        #Error en el ingreso de los inputs\n",
    "        except: \n",
    "            print('Ha habido algún error con su pago. Vuelva a procesarlo de nuevo, por favor')\n",
    "            \n",
    "    def agregar_cliente(self, nombre, email): \n",
    "        \n",
    "        #Confirmamos previamente si el cliente está en el listado\n",
    "        if nombre in self.clientes:\n",
    "            print(f\"El cliente {nombre} ya está incluido en el listado de clientes.\")\n",
    "            \n",
    "        #Accedemos a la key del diccionario y le asignamos el valor (otro diccionario)    \n",
    "        else: \n",
    "            self.clientes[nombre] = {'email':email, \"compras\":[]}\n",
    "            print(\"Cliente añadido al listado\")\n",
    "            \n",
    "        return self.clientes\n",
    "    \n",
    "    def ver_clientes (self): \n",
    "        \n",
    "        #Iteramos clave y valor de cada entrada de cliente.\n",
    "        for cliente, mail in self.clientes.items():\n",
    "            \n",
    "            #Imprimimos mensaje con clave y el valor de la clave del valor-diccionario\n",
    "            print(f\"Nombre del cliente: {cliente}, e-mail: {mail['email']}\")\n",
    "    \n",
    "    \n",
    "        "
   ]
  },
  {
   "cell_type": "code",
   "execution_count": 33,
   "metadata": {},
   "outputs": [],
   "source": [
    "#Instanciamos la clase\n",
    "paraeta=TiendaOnline ([], {})\n"
   ]
  },
  {
   "cell_type": "code",
   "execution_count": 11,
   "metadata": {},
   "outputs": [
    {
     "name": "stdout",
     "output_type": "stream",
     "text": [
      "[{'nombre': 'chicles de fresa', 'precio': 0.25, 'cantidad': 150}, {'nombre': 'chicles de menta', 'precio': 0.25, 'cantidad': 100}, {'nombre': 'chupachups', 'precio': 0.5, 'cantidad': 250}, {'nombre': 'piruleta', 'precio': 0.35, 'cantidad': 225}, {'nombre': 'petazetas', 'precio': 0.6, 'cantidad': 125}]\n"
     ]
    }
   ],
   "source": [
    "#MÉTODO 1. agregar_producto(self, nombre, precio, cantidad)\n",
    "\n",
    "paraeta.agregar_producto (\"chicles de fresa\", 0.25, 150)\n",
    "paraeta.agregar_producto (\"chicles de menta\", 0.25, 100)\n",
    "paraeta.agregar_producto (\"chupachups\", 0.50, 250)\n",
    "paraeta.agregar_producto (\"piruleta\", 0.35, 225)\n",
    "paraeta.agregar_producto (\"petazetas\", 0.60, 125)\n",
    "\n",
    "print(paraeta.inventario)"
   ]
  },
  {
   "cell_type": "code",
   "execution_count": 12,
   "metadata": {},
   "outputs": [
    {
     "name": "stdout",
     "output_type": "stream",
     "text": [
      "Nombre: chicles de fresa, Precio: $0.25, Cantidad: 150 \n",
      "Nombre: chicles de menta, Precio: $0.25, Cantidad: 100 \n",
      "Nombre: chupachups, Precio: $0.5, Cantidad: 250 \n",
      "Nombre: piruleta, Precio: $0.35, Cantidad: 225 \n",
      "Nombre: petazetas, Precio: $0.6, Cantidad: 125 \n"
     ]
    }
   ],
   "source": [
    "#MÉTODO 2. ver_inventario(self)\n",
    "\n",
    "paraeta.ver_inventario()"
   ]
  },
  {
   "cell_type": "code",
   "execution_count": 14,
   "metadata": {},
   "outputs": [
    {
     "name": "stdout",
     "output_type": "stream",
     "text": [
      "Nombre: petazetas, Precio: $0.6, Cantidad: 125\n"
     ]
    }
   ],
   "source": [
    "#MÉTODO 3. buscar_producto(self, nombre)\n",
    "\n",
    "paraeta.buscar_producto(\"Petazetas\")"
   ]
  },
  {
   "cell_type": "code",
   "execution_count": 15,
   "metadata": {},
   "outputs": [
    {
     "data": {
      "text/plain": [
       "[{'nombre': 'chicles de fresa', 'precio': 0.25, 'cantidad': 150},\n",
       " {'nombre': 'chicles de menta', 'precio': 0.25, 'cantidad': 100},\n",
       " {'nombre': 'chupachups', 'precio': 0.5, 'cantidad': 258},\n",
       " {'nombre': 'piruleta', 'precio': 0.35, 'cantidad': 225},\n",
       " {'nombre': 'petazetas', 'precio': 0.6, 'cantidad': 125}]"
      ]
     },
     "execution_count": 15,
     "metadata": {},
     "output_type": "execute_result"
    }
   ],
   "source": [
    "#MÉTODO 4. actualizar_stock(self, nombre, cantidad)\n",
    "\n",
    "paraeta.actualizar_stock(\"Chupachups\", 8)"
   ]
  },
  {
   "cell_type": "code",
   "execution_count": 16,
   "metadata": {},
   "outputs": [
    {
     "name": "stdout",
     "output_type": "stream",
     "text": [
      "Se ha eliminado el producto Piruleta del inventario\n"
     ]
    }
   ],
   "source": [
    "#MÉTODO 5. eliminar_producto(self, nombre)\n",
    "\n",
    "paraeta.eliminar_producto(\"Piruleta\")"
   ]
  },
  {
   "cell_type": "code",
   "execution_count": 17,
   "metadata": {},
   "outputs": [
    {
     "name": "stdout",
     "output_type": "stream",
     "text": [
      "El valor total del inventario es 266.5€\n"
     ]
    }
   ],
   "source": [
    "#MÉTODO 6. calcular_valor_inventario(self)\n",
    "\n",
    "paraeta.calcular_valor_inventario()"
   ]
  },
  {
   "cell_type": "code",
   "execution_count": 18,
   "metadata": {},
   "outputs": [
    {
     "data": {
      "text/plain": [
       "[{'nombre': 'chicles de fresa', 'precio': 0.25, 'cantidad': 150},\n",
       " {'nombre': 'chicles de menta', 'precio': 0.25, 'cantidad': 100},\n",
       " {'nombre': 'chupachups', 'precio': 0.5, 'cantidad': 258}]"
      ]
     },
     "execution_count": 18,
     "metadata": {},
     "output_type": "execute_result"
    }
   ],
   "source": [
    "#MÉTODO 7. buscar_producto_regex(self, patron)\n",
    "\n",
    "paraeta.buscar_producto_regex (\"ch.\\w\")"
   ]
  },
  {
   "cell_type": "code",
   "execution_count": 19,
   "metadata": {},
   "outputs": [
    {
     "name": "stdout",
     "output_type": "stream",
     "text": [
      "Los productos comprados son: [{'nombre': 'chicles de fresa', 'precio': 0.25, 'unidades': 8}, {'nombre': 'petazetas', 'precio': 0.6, 'unidades': 15}, {'nombre': 'chupachups', 'precio': 0.5, 'unidades': 8}]. El total de la compra asciende a 15.0€\n"
     ]
    },
    {
     "data": {
      "text/plain": [
       "[{'nombre': 'chicles de fresa', 'precio': 0.25, 'unidades': 8},\n",
       " {'nombre': 'petazetas', 'precio': 0.6, 'unidades': 15},\n",
       " {'nombre': 'chupachups', 'precio': 0.5, 'unidades': 8}]"
      ]
     },
     "execution_count": 19,
     "metadata": {},
     "output_type": "execute_result"
    }
   ],
   "source": [
    "#MÉTODO 8. realizar_compra(self)\n",
    "\n",
    "paraeta.realizar_compra()"
   ]
  },
  {
   "cell_type": "code",
   "execution_count": 20,
   "metadata": {},
   "outputs": [
    {
     "name": "stdout",
     "output_type": "stream",
     "text": [
      "Muchas gracias por su compra. El saldo disponible para usar en nuestra tienda 14.0€.\n"
     ]
    }
   ],
   "source": [
    "#MÉTODO 9. procesar_pago(self)\n",
    "\n",
    "paraeta.procesar_pago()"
   ]
  },
  {
   "cell_type": "code",
   "execution_count": 36,
   "metadata": {},
   "outputs": [
    {
     "name": "stdout",
     "output_type": "stream",
     "text": [
      "Cliente añadido al listado\n"
     ]
    },
    {
     "data": {
      "text/plain": [
       "{'Iván': {'email': 'ivan@correo.com', 'compras': []},\n",
       " 'Luz': {'email': 'luz@correo.com', 'compras': []},\n",
       " 'Marisa': {'email': 'marisa@correo.com', 'compras': []}}"
      ]
     },
     "execution_count": 36,
     "metadata": {},
     "output_type": "execute_result"
    }
   ],
   "source": [
    "#MÉTODO 10. agregar_cliente(self, nombre, email)\n",
    "\n",
    "paraeta.agregar_cliente(\"Marisa\", \"marisa@correo.com\")"
   ]
  },
  {
   "cell_type": "code",
   "execution_count": 37,
   "metadata": {},
   "outputs": [
    {
     "name": "stdout",
     "output_type": "stream",
     "text": [
      "Nombre del cliente: Iván, e-mail: ivan@correo.com\n",
      "Nombre del cliente: Luz, e-mail: luz@correo.com\n",
      "Nombre del cliente: Marisa, e-mail: marisa@correo.com\n"
     ]
    }
   ],
   "source": [
    "#MÉTODO 11. ver_clientes(self)\n",
    "\n",
    "paraeta.ver_clientes()"
   ]
  },
  {
   "cell_type": "code",
   "execution_count": null,
   "metadata": {},
   "outputs": [],
   "source": []
  }
 ],
 "metadata": {
  "kernelspec": {
   "display_name": "base",
   "language": "python",
   "name": "python3"
  },
  "language_info": {
   "codemirror_mode": {
    "name": "ipython",
    "version": 3
   },
   "file_extension": ".py",
   "mimetype": "text/x-python",
   "name": "python",
   "nbconvert_exporter": "python",
   "pygments_lexer": "ipython3",
   "version": "3.9.7"
  }
 },
 "nbformat": 4,
 "nbformat_minor": 2
}
